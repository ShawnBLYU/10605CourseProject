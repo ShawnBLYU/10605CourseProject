{
 "cells": [
  {
   "cell_type": "code",
   "execution_count": 1,
   "metadata": {},
   "outputs": [
    {
     "name": "stderr",
     "output_type": "stream",
     "text": [
      "Using TensorFlow backend.\n",
      "/home/ec2-user/anaconda3/envs/tensorflow_p36/lib/python3.6/importlib/_bootstrap.py:219: RuntimeWarning: compiletime version 3.5 of module 'tensorflow.python.framework.fast_tensor_util' does not match runtime version 3.6\n",
      "  return f(*args, **kwds)\n"
     ]
    }
   ],
   "source": [
    "import foolbox\n",
    "import keras\n",
    "import tensorflow as tf\n",
    "import numpy as np\n",
    "from keras.applications.resnet50 import ResNet50\n",
    "from keras.layers import Conv2D, Activation, Flatten, Dense\n",
    "from keras.models import Sequential\n",
    "from keras.optimizers import SGD\n",
    "\n",
    "from cleverhans.utils_mnist import data_mnist\n",
    "\n",
    "import time"
   ]
  },
  {
   "cell_type": "code",
   "execution_count": 2,
   "metadata": {},
   "outputs": [
    {
     "name": "stdout",
     "output_type": "stream",
     "text": [
      "Extracting /tmp/train-images-idx3-ubyte.gz\n",
      "Extracting /tmp/train-labels-idx1-ubyte.gz\n",
      "Extracting /tmp/t10k-images-idx3-ubyte.gz\n",
      "Extracting /tmp/t10k-labels-idx1-ubyte.gz\n",
      "X_train shape: (60000, 28, 28, 1)\n",
      "X_test shape: (10000, 28, 28, 1)\n"
     ]
    }
   ],
   "source": [
    "# Generating a model\n",
    "sess = tf.Session()\n",
    "X_train, Y_train, X_test, Y_test = data_mnist(train_start=0,\n",
    "                                              train_end=60000,\n",
    "                                              test_start=0,\n",
    "                                              test_end=10000)"
   ]
  },
  {
   "cell_type": "code",
   "execution_count": 3,
   "metadata": {},
   "outputs": [],
   "source": [
    "model = Sequential()\n",
    "layers = [Conv2D(64, (8, 8), strides=(2, 2), padding=\"same\",\n",
    "                      input_shape=(28,28,1)),\n",
    "          Activation('relu'),\n",
    "          Conv2D((64 * 2), (6, 6), strides=(2, 2), padding=\"valid\"),\n",
    "          Activation('relu'),\n",
    "          Conv2D((64 * 2), (5, 5), strides=(1, 1), padding=\"valid\"),\n",
    "          Activation('relu'),\n",
    "          Flatten(),\n",
    "          Dense(10)]\n",
    "for layer in layers:\n",
    "    model.add(layer)\n",
    "model.add(Activation('softmax'))\n",
    "\n",
    "sgd = SGD(lr=0.01, decay=1e-6, momentum=0.9, nesterov=True)\n",
    "model.compile(loss='categorical_crossentropy',\n",
    "              optimizer=sgd,\n",
    "              metrics=['accuracy'])"
   ]
  },
  {
   "cell_type": "code",
   "execution_count": 4,
   "metadata": {},
   "outputs": [
    {
     "name": "stdout",
     "output_type": "stream",
     "text": [
      "Train on 60000 samples, validate on 10000 samples\n",
      "Epoch 1/6\n",
      "60000/60000 [==============================] - 7s 125us/step - loss: 0.3808 - acc: 0.8850 - val_loss: 0.1168 - val_acc: 0.9644\n",
      "Epoch 2/6\n",
      "60000/60000 [==============================] - 6s 106us/step - loss: 0.0997 - acc: 0.9703 - val_loss: 0.0749 - val_acc: 0.9762\n",
      "Epoch 3/6\n",
      "60000/60000 [==============================] - 6s 106us/step - loss: 0.0686 - acc: 0.9785 - val_loss: 0.0612 - val_acc: 0.9797\n",
      "Epoch 4/6\n",
      "60000/60000 [==============================] - 6s 106us/step - loss: 0.0531 - acc: 0.9841 - val_loss: 0.0611 - val_acc: 0.9803\n",
      "Epoch 5/6\n",
      "60000/60000 [==============================] - 6s 106us/step - loss: 0.0427 - acc: 0.9866 - val_loss: 0.0500 - val_acc: 0.9833\n",
      "Epoch 6/6\n",
      "60000/60000 [==============================] - 6s 106us/step - loss: 0.0354 - acc: 0.9891 - val_loss: 0.0402 - val_acc: 0.9872\n"
     ]
    }
   ],
   "source": [
    "model.fit(X_train, Y_train, epochs=6, batch_size=128, validation_data = (X_test, Y_test))\n",
    "model.layers.pop()\n",
    "flmodel = foolbox.models.KerasModel(model, bounds=(0,1), predicts=\"logits\")"
   ]
  },
  {
   "cell_type": "code",
   "execution_count": 5,
   "metadata": {},
   "outputs": [],
   "source": [
    "from foolbox.criteria import Misclassification\n",
    "from foolbox.distances import MeanSquaredDistance\n",
    "from foolbox.attacks import FGSM, DeepFoolAttack, ApproximateLBFGSAttack, BoundaryAttack, SinglePixelAttack\n",
    "\n",
    "import sys\n",
    "import io\n",
    "untar_crit = Misclassification()\n",
    "atk_bound = BoundaryAttack(flmodel, untar_crit)\n",
    "save_stdout = sys.stdout"
   ]
  },
  {
   "cell_type": "code",
   "execution_count": null,
   "metadata": {},
   "outputs": [
    {
     "name": "stdout",
     "output_type": "stream",
     "text": [
      "0\n",
      "0% complete\n",
      "10% complete\n",
      "20% complete\n",
      "30% complete\n",
      "40% complete\n",
      "50% complete\n",
      "60% complete\n",
      "70% complete\n",
      "80% complete\n",
      "90% complete\n",
      "724.2450070381165\n",
      "0.00326445288196\n",
      "1\n",
      "0% complete\n",
      "10% complete\n",
      "20% complete\n",
      "30% complete\n",
      "40% complete\n",
      "50% complete\n",
      "60% complete\n",
      "70% complete\n",
      "80% complete\n",
      "90% complete\n",
      "1203.1902935504913\n",
      "0.00282748073948\n",
      "2\n",
      "0% complete\n",
      "10% complete\n",
      "20% complete\n",
      "30% complete\n",
      "40% complete\n",
      "50% complete\n",
      "60% complete\n",
      "70% complete\n",
      "80% complete\n",
      "90% complete\n",
      "1694.1352043151855\n",
      "0.002547927809\n",
      "3\n",
      "0% complete\n",
      "10% complete\n",
      "20% complete\n",
      "30% complete\n",
      "40% complete\n",
      "50% complete\n",
      "60% complete\n"
     ]
    }
   ],
   "source": [
    "\n",
    "sys.stdout = save_stdout\n",
    "# Experiments for 1000 Iters\n",
    "bound_dist = [np.zeros(100) - 1 for i in range(5)]\n",
    "bound_num_correct = [0 for i in range(5)]\n",
    "bound_time = [0 for i in range(5)]\n",
    "for max_iter in [1000,2000,3000,4000,5000]:\n",
    "    start = time.time()\n",
    "    slot = int(max_iter/1000 - 1)\n",
    "    print(slot)\n",
    "    for i in range(50):\n",
    "        if (i % 5 == 0):\n",
    "            print(str(i*2) + \"% complete\")\n",
    "        inp,lab=X_test[i],Y_test[i]\n",
    "        lab = np.argmax(lab)\n",
    "        \n",
    "        sys.stdout = io.StringIO()\n",
    "        adv = atk_bound(inp,lab,iterations=max_iter)\n",
    "        sys.stdout = save_stdout\n",
    "\n",
    "        if adv is None:\n",
    "            bound_num_correct[slot] += 1\n",
    "        elif (np.argmax(model.predict(np.array([adv]))) != lab):\n",
    "            bound_dist[slot][i]=MeanSquaredDistance(inp,adv,(0,1)).value\n",
    "        else:\n",
    "            bound_num_correct[slot] += 1\n",
    "    a = time.time() - start\n",
    "    print(a)\n",
    "    print(np.median(bound_dist[slot][bound_dist[slot] >= 0]))\n",
    "    bound_time[slot] = a"
   ]
  },
  {
   "cell_type": "code",
   "execution_count": 8,
   "metadata": {},
   "outputs": [
    {
     "data": {
      "text/plain": [
       "[285.5978436470032,\n",
       " 476.7730576992035,\n",
       " 668.3349094390869,\n",
       " 833.452091217041,\n",
       " 849.0178511142731]"
      ]
     },
     "execution_count": 8,
     "metadata": {},
     "output_type": "execute_result"
    }
   ],
   "source": [
    "bound_time"
   ]
  },
  {
   "cell_type": "code",
   "execution_count": null,
   "metadata": {},
   "outputs": [],
   "source": []
  }
 ],
 "metadata": {
  "kernelspec": {
   "display_name": "Python [conda env:tensorflow_p36]",
   "language": "python",
   "name": "conda-env-tensorflow_p36-py"
  },
  "language_info": {
   "codemirror_mode": {
    "name": "ipython",
    "version": 3
   },
   "file_extension": ".py",
   "mimetype": "text/x-python",
   "name": "python",
   "nbconvert_exporter": "python",
   "pygments_lexer": "ipython3",
   "version": "3.6.3"
  }
 },
 "nbformat": 4,
 "nbformat_minor": 2
}
