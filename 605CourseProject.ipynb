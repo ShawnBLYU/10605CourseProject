{
 "cells": [
  {
   "cell_type": "code",
   "execution_count": 6,
   "metadata": {},
   "outputs": [],
   "source": [
    "from __future__ import absolute_import\n",
    "from __future__ import division\n",
    "from __future__ import print_function\n",
    "from __future__ import unicode_literals\n",
    "\n",
    "import time\n",
    "import numpy as np\n",
    "import keras\n",
    "from keras import backend as K\n",
    "from keras.datasets import mnist\n",
    "from keras.models import Sequential\n",
    "from keras.layers import Dense, Dropout, Flatten\n",
    "from keras.layers import Conv2D, MaxPooling2D\n",
    "\n",
    "import tensorflow as tf\n",
    "from tensorflow.python.platform import flags\n",
    "\n",
    "from cleverhans.utils_mnist import data_mnist\n",
    "from cleverhans.utils_tf import model_train, model_argmax, model_eval\n",
    "from cleverhans.attacks import FastGradientMethod, SaliencyMapMethod\n",
    "from cleverhans.utils import AccuracyReport, other_classes\n",
    "from cleverhans.utils import pair_visual, grid_visual, AccuracyReport\n",
    "\n",
    "from cleverhans.utils_keras import cnn_model\n",
    "from cleverhans.utils_keras import KerasModelWrapper\n"
   ]
  },
  {
   "cell_type": "code",
   "execution_count": 7,
   "metadata": {},
   "outputs": [],
   "source": [
    "def mnist_fgsm(train_start=0, train_end=60000, test_start=0,\n",
    "                   test_end=10000, nb_epochs=6, batch_size=128,\n",
    "                   learning_rate=0.001, train_dir=\"/tmp\",\n",
    "                   filename=\"mnist.ckpt\", load_model=False, fgsm_eps=0.3,\n",
    "                   testing=False):\n",
    "    keras.layers.core.K.set_learning_phase(0)\n",
    "\n",
    "    # Object used to keep track of (and return) key accuracies\n",
    "    report = AccuracyReport()\n",
    "\n",
    "    # Set TF random seed to improve reproducibility\n",
    "    tf.set_random_seed(1234)\n",
    "\n",
    "    # Create TF session and set as Keras backend session\n",
    "    sess = tf.Session()\n",
    "    keras.backend.set_session(sess)\n",
    "\n",
    "    # Get MNIST test data\n",
    "    X_train, Y_train, X_test, Y_test = data_mnist(train_start=train_start,\n",
    "                                                  train_end=train_end,\n",
    "                                                  test_start=test_start,\n",
    "                                                  test_end=test_end)\n",
    "\n",
    "    # Use label smoothing\n",
    "    assert Y_train.shape[1] == 10\n",
    "    label_smooth = .1\n",
    "    Y_train = Y_train.clip(label_smooth / 9., 1. - label_smooth)\n",
    "\n",
    "    # Define input TF placeholder\n",
    "    x = tf.placeholder(tf.float32, shape=(None, 28, 28, 1))\n",
    "    y = tf.placeholder(tf.float32, shape=(None, 10))\n",
    "\n",
    "    # Define TF model graph\n",
    "    model = cnn_model()\n",
    "    preds = model(x)\n",
    "    print(\"Defined TensorFlow model graph.\")\n",
    "\n",
    "    def evaluate():\n",
    "        # Evaluate the accuracy of the MNIST model on legitimate test examples\n",
    "        eval_params = {'batch_size': batch_size}\n",
    "        acc = model_eval(sess, x, y, preds, X_test, Y_test, args=eval_params)\n",
    "        report.clean_train_clean_eval = acc\n",
    "        assert X_test.shape[0] == test_end - test_start, X_test.shape\n",
    "        print('Test accuracy on legitimate examples: %0.4f' % acc)\n",
    "\n",
    "    # Train an MNIST model\n",
    "    train_params = {\n",
    "        'nb_epochs': nb_epochs,\n",
    "        'batch_size': batch_size,\n",
    "        'learning_rate': learning_rate,\n",
    "        'train_dir': train_dir,\n",
    "        'filename': filename\n",
    "    }\n",
    "    ckpt = tf.train.get_checkpoint_state(train_dir)\n",
    "    ckpt_path = False if ckpt is None else ckpt.model_checkpoint_path\n",
    "\n",
    "    rng = np.random.RandomState([2017, 8, 30])\n",
    "    if load_model and ckpt_path:\n",
    "        saver = tf.train.Saver()\n",
    "        saver.restore(sess, ckpt_path)\n",
    "        print(\"Model loaded from: {}\".format(ckpt_path))\n",
    "        evaluate()\n",
    "    else:\n",
    "        print(\"Model was not loaded, training from scratch.\")\n",
    "        model_train(sess, x, y, preds, X_train, Y_train, evaluate=evaluate,\n",
    "                    args=train_params, save=True, rng=rng)\n",
    "\n",
    "    # Calculate training error\n",
    "    if testing:\n",
    "        eval_params = {'batch_size': batch_size}\n",
    "        acc = model_eval(sess, x, y, preds, X_train, Y_train, args=eval_params)\n",
    "        report.train_clean_train_clean_eval = acc\n",
    "\n",
    "    # Initialize the Fast Gradient Sign Method (FGSM) attack object and graph\n",
    "    wrap = KerasModelWrapper(model)\n",
    "    fgsm = FastGradientMethod(wrap, sess=sess)\n",
    "    fgsm_params = {'eps': fgsm_eps,\n",
    "                   'clip_min': 0.,\n",
    "                   'clip_max': 1.}\n",
    "    adv_x = fgsm.generate(x, **fgsm_params)\n",
    "    # Consider the attack to be constant\n",
    "    adv_x = tf.stop_gradient(adv_x)\n",
    "    preds_adv = model(adv_x)\n",
    "    start = time.time()\n",
    "    adv_examples = fgsm.generate_np(X_test[:1000], **fgsm_params)\n",
    "    print(time.time() - start)\n",
    "    print(adv_examples.shape)\n",
    "    big_N = 28 * 28 * 1. # HARDCODED HERE! THE NUMBER OF ELEMENTS IN EACH INPUT\n",
    "    scores = np.linalg.norm(adv_examples.reshape(adv_examples.shape[0],-1)-(X_test[:1000]).reshape(X_test[:1000].shape[0],-1),axis=1)/big_N\n",
    "\n",
    "    print(scores.shape)\n",
    "    print(np.median(scores))\n",
    "        \n",
    "    # Evaluate the accuracy of the MNIST model on adversarial examples\n",
    "    eval_par = {'batch_size': batch_size}\n",
    "    acc = model_eval(sess, x, y, preds_adv, X_test[:1000], Y_test[:1000], args=eval_par)\n",
    "    print('Test accuracy on adversarial examples: %0.4f\\n' % acc)\n",
    "    report.clean_train_adv_eval = acc\n",
    "\n",
    "    # Calculating train error\n",
    "    if testing:\n",
    "        eval_par = {'batch_size': batch_size}\n",
    "        acc = model_eval(sess, x, y, preds_adv, X_train,\n",
    "                         Y_train, args=eval_par)\n",
    "        report.train_clean_train_adv_eval = acc\n",
    "    \n",
    "    return None"
   ]
  },
  {
   "cell_type": "code",
   "execution_count": 9,
   "metadata": {},
   "outputs": [
    {
     "name": "stdout",
     "output_type": "stream",
     "text": [
      "Extracting /tmp/train-images-idx3-ubyte.gz\n",
      "Extracting /tmp/train-labels-idx1-ubyte.gz\n",
      "Extracting /tmp/t10k-images-idx3-ubyte.gz\n",
      "Extracting /tmp/t10k-labels-idx1-ubyte.gz\n",
      "X_train shape: (60000, 28, 28, 1)\n",
      "X_test shape: (10000, 28, 28, 1)\n",
      "Defined TensorFlow model graph.\n",
      "Model was not loaded, training from scratch.\n",
      "Test accuracy on legitimate examples: 0.9887\n",
      "Test accuracy on legitimate examples: 0.9900\n",
      "Test accuracy on legitimate examples: 0.9922\n",
      "Test accuracy on legitimate examples: 0.9920\n",
      "Test accuracy on legitimate examples: 0.9926\n",
      "Test accuracy on legitimate examples: 0.9927\n",
      "0.6147949695587158\n",
      "(1000, 28, 28, 1)\n",
      "(1000,)\n",
      "0.00922415\n",
      "Test accuracy on adversarial examples: 0.1090\n",
      "\n"
     ]
    }
   ],
   "source": [
    "mnist_fgsm(nb_epochs=6)"
   ]
  },
  {
   "cell_type": "code",
   "execution_count": 4,
   "metadata": {},
   "outputs": [
    {
     "name": "stdout",
     "output_type": "stream",
     "text": [
      "Extracting /tmp/train-images-idx3-ubyte.gz\n",
      "Extracting /tmp/train-labels-idx1-ubyte.gz\n",
      "Extracting /tmp/t10k-images-idx3-ubyte.gz\n",
      "Extracting /tmp/t10k-labels-idx1-ubyte.gz\n",
      "X_train shape: (60000, 28, 28, 1)\n",
      "X_test shape: (10000, 28, 28, 1)\n",
      "Defined TensorFlow model graph.\n",
      "Model was not loaded, training from scratch.\n",
      "Test accuracy on legitimate examples: 0.9883\n",
      "Test accuracy on legitimate examples: 0.9902\n",
      "Test accuracy on legitimate examples: 0.9919\n",
      "Test accuracy on legitimate examples: 0.9918\n",
      "Test accuracy on legitimate examples: 0.9934\n",
      "Test accuracy on legitimate examples: 0.9932\n",
      "Test accuracy on legitimate examples: 0.9928\n",
      "Test accuracy on legitimate examples: 0.9930\n",
      "Test accuracy on legitimate examples: 0.9940\n",
      "Test accuracy on legitimate examples: 0.9934\n",
      "Test accuracy on legitimate examples: 0.9934\n",
      "Test accuracy on legitimate examples: 0.9937\n",
      "0.2780725955963135\n",
      "(1000, 28, 28, 1)\n",
      "(1000,)\n",
      "0.00919089\n",
      "Test accuracy on adversarial examples: 0.1240\n",
      "\n"
     ]
    }
   ],
   "source": [
    "mnist_fgsm(nb_epochs=12)"
   ]
  },
  {
   "cell_type": "code",
   "execution_count": 5,
   "metadata": {},
   "outputs": [
    {
     "name": "stdout",
     "output_type": "stream",
     "text": [
      "Extracting /tmp/train-images-idx3-ubyte.gz\n",
      "Extracting /tmp/train-labels-idx1-ubyte.gz\n",
      "Extracting /tmp/t10k-images-idx3-ubyte.gz\n",
      "Extracting /tmp/t10k-labels-idx1-ubyte.gz\n",
      "X_train shape: (60000, 28, 28, 1)\n",
      "X_test shape: (10000, 28, 28, 1)\n",
      "Defined TensorFlow model graph.\n",
      "Model was not loaded, training from scratch.\n",
      "Test accuracy on legitimate examples: 0.9884\n",
      "Test accuracy on legitimate examples: 0.9900\n",
      "Test accuracy on legitimate examples: 0.9922\n",
      "Test accuracy on legitimate examples: 0.9919\n",
      "Test accuracy on legitimate examples: 0.9932\n",
      "Test accuracy on legitimate examples: 0.9931\n",
      "Test accuracy on legitimate examples: 0.9930\n",
      "Test accuracy on legitimate examples: 0.9932\n",
      "Test accuracy on legitimate examples: 0.9940\n",
      "Test accuracy on legitimate examples: 0.9930\n",
      "Test accuracy on legitimate examples: 0.9935\n",
      "Test accuracy on legitimate examples: 0.9933\n",
      "Test accuracy on legitimate examples: 0.9932\n",
      "Test accuracy on legitimate examples: 0.9931\n",
      "Test accuracy on legitimate examples: 0.9934\n",
      "Test accuracy on legitimate examples: 0.9933\n",
      "Test accuracy on legitimate examples: 0.9935\n",
      "Test accuracy on legitimate examples: 0.9933\n",
      "0.2935309410095215\n",
      "(1000, 28, 28, 1)\n",
      "(1000,)\n",
      "0.00926216\n",
      "Test accuracy on adversarial examples: 0.1870\n",
      "\n"
     ]
    }
   ],
   "source": [
    "mnist_fgsm(nb_epochs=18)"
   ]
  },
  {
   "cell_type": "code",
   "execution_count": 6,
   "metadata": {},
   "outputs": [
    {
     "name": "stdout",
     "output_type": "stream",
     "text": [
      "Extracting /tmp/train-images-idx3-ubyte.gz\n",
      "Extracting /tmp/train-labels-idx1-ubyte.gz\n",
      "Extracting /tmp/t10k-images-idx3-ubyte.gz\n",
      "Extracting /tmp/t10k-labels-idx1-ubyte.gz\n",
      "X_train shape: (60000, 28, 28, 1)\n",
      "X_test shape: (10000, 28, 28, 1)\n",
      "Defined TensorFlow model graph.\n",
      "Model was not loaded, training from scratch.\n",
      "Test accuracy on legitimate examples: 0.9884\n",
      "Test accuracy on legitimate examples: 0.9902\n",
      "Test accuracy on legitimate examples: 0.9918\n",
      "Test accuracy on legitimate examples: 0.9922\n",
      "Test accuracy on legitimate examples: 0.9933\n",
      "Test accuracy on legitimate examples: 0.9933\n",
      "0.318805456161499\n",
      "(1000, 28, 28, 1)\n",
      "(1000,)\n",
      "0.0184118\n",
      "Test accuracy on adversarial examples: 0.0260\n",
      "\n"
     ]
    }
   ],
   "source": [
    "mnist_fgsm(fgsm_eps=0.6)"
   ]
  },
  {
   "cell_type": "code",
   "execution_count": 7,
   "metadata": {},
   "outputs": [
    {
     "name": "stdout",
     "output_type": "stream",
     "text": [
      "Extracting /tmp/train-images-idx3-ubyte.gz\n",
      "Extracting /tmp/train-labels-idx1-ubyte.gz\n",
      "Extracting /tmp/t10k-images-idx3-ubyte.gz\n",
      "Extracting /tmp/t10k-labels-idx1-ubyte.gz\n",
      "X_train shape: (60000, 28, 28, 1)\n",
      "X_test shape: (10000, 28, 28, 1)\n",
      "Defined TensorFlow model graph.\n",
      "Model was not loaded, training from scratch.\n",
      "Test accuracy on legitimate examples: 0.9881\n",
      "Test accuracy on legitimate examples: 0.9897\n",
      "Test accuracy on legitimate examples: 0.9917\n",
      "Test accuracy on legitimate examples: 0.9923\n",
      "Test accuracy on legitimate examples: 0.9933\n",
      "Test accuracy on legitimate examples: 0.9928\n",
      "0.3624598979949951\n",
      "(1000, 28, 28, 1)\n",
      "(1000,)\n",
      "0.0139298\n",
      "Test accuracy on adversarial examples: 0.0290\n",
      "\n"
     ]
    }
   ],
   "source": [
    "mnist_fgsm(fgsm_eps=0.45)"
   ]
  },
  {
   "cell_type": "code",
   "execution_count": 8,
   "metadata": {},
   "outputs": [
    {
     "name": "stdout",
     "output_type": "stream",
     "text": [
      "Extracting /tmp/train-images-idx3-ubyte.gz\n",
      "Extracting /tmp/train-labels-idx1-ubyte.gz\n",
      "Extracting /tmp/t10k-images-idx3-ubyte.gz\n",
      "Extracting /tmp/t10k-labels-idx1-ubyte.gz\n",
      "X_train shape: (60000, 28, 28, 1)\n",
      "X_test shape: (10000, 28, 28, 1)\n",
      "Defined TensorFlow model graph.\n",
      "Model was not loaded, training from scratch.\n",
      "Test accuracy on legitimate examples: 0.9888\n",
      "Test accuracy on legitimate examples: 0.9906\n",
      "Test accuracy on legitimate examples: 0.9926\n",
      "Test accuracy on legitimate examples: 0.9918\n",
      "Test accuracy on legitimate examples: 0.9925\n",
      "Test accuracy on legitimate examples: 0.9934\n",
      "0.3561553955078125\n",
      "(1000, 28, 28, 1)\n",
      "(1000,)\n",
      "0.00461915\n",
      "Test accuracy on adversarial examples: 0.6620\n",
      "\n"
     ]
    }
   ],
   "source": [
    "mnist_fgsm(fgsm_eps=0.15)"
   ]
  },
  {
   "cell_type": "code",
   "execution_count": 3,
   "metadata": {},
   "outputs": [],
   "source": [
    "def mnist_jsma(train_start=0, train_end=60000, test_start=0,\n",
    "                        test_end=10000, viz_enabled=False, nb_epochs=6,\n",
    "                        batch_size=128, nb_classes=10, source_samples=10, jsma_theta=1.,\n",
    "                        learning_rate=0.001):\n",
    "    # Object used to keep track of (and return) key accuracies\n",
    "    report = AccuracyReport()\n",
    "\n",
    "    # MNIST-specific dimensions\n",
    "    img_rows = 28\n",
    "    img_cols = 28\n",
    "    channels = 1\n",
    "\n",
    "    # Set TF random seed to improve reproducibility\n",
    "    tf.set_random_seed(1234)\n",
    "\n",
    "    # Create TF session and set as Keras backend session\n",
    "    sess = tf.Session()\n",
    "    print(\"Created TensorFlow session.\")\n",
    "\n",
    "    # Get MNIST test data\n",
    "    X_train, Y_train, X_test, Y_test = data_mnist(train_start=train_start,\n",
    "                                                  train_end=train_end,\n",
    "                                                  test_start=test_start,\n",
    "                                                  test_end=test_end)\n",
    "\n",
    "    # Define input TF placeholder\n",
    "    x = tf.placeholder(tf.float32, shape=(None, 28, 28, 1))\n",
    "    y = tf.placeholder(tf.float32, shape=(None, 10))\n",
    "\n",
    "    # Define TF model graph\n",
    "    model = cnn_model()\n",
    "    preds = model(x)\n",
    "    print(\"Defined TensorFlow model graph.\")\n",
    "\n",
    "    ###########################################################################\n",
    "    # Training the model using TensorFlow\n",
    "    ###########################################################################\n",
    "\n",
    "    # Train an MNIST model\n",
    "    train_params = {\n",
    "        'nb_epochs': nb_epochs,\n",
    "        'batch_size': batch_size,\n",
    "        'learning_rate': learning_rate\n",
    "    }\n",
    "    sess.run(tf.global_variables_initializer())\n",
    "    rng = np.random.RandomState([1997, 5, 28])\n",
    "    model_train(sess, x, y, preds, X_train, Y_train, args=train_params,\n",
    "                rng=rng)\n",
    "\n",
    "    # Evaluate the accuracy of the MNIST model on legitimate test examples\n",
    "    eval_params = {'batch_size': batch_size}\n",
    "    accuracy = model_eval(sess, x, y, preds, X_test, Y_test, args=eval_params)\n",
    "    assert X_test.shape[0] == test_end - test_start, X_test.shape\n",
    "    print('Test accuracy on legitimate test examples: {0}'.format(accuracy))\n",
    "    report.clean_train_clean_eval = accuracy\n",
    "\n",
    "    ###########################################################################\n",
    "    # Craft adversarial examples using the Jacobian-based saliency map approach\n",
    "    ###########################################################################\n",
    "    # Instantiate a SaliencyMapMethod attack object\n",
    "    jsma = SaliencyMapMethod(model, back='tf', sess=sess)\n",
    "    jsma_params = {'theta': jsma_theta, 'gamma': 0.1,\n",
    "                   'clip_min': 0., 'clip_max': 1.,\n",
    "                   'y_target': None}\n",
    "\n",
    "    # Loop over the samples we want to perturb into adversarial examples\n",
    "    adv_x = jsma.generate(x, **jsma_params)\n",
    "    # Consider the attack to be constant\n",
    "    adv_x = tf.stop_gradient(adv_x)\n",
    "    print(\"Step 1\")\n",
    "    preds_adv = model(adv_x)\n",
    "    start = time.time()\n",
    "    adv_examples = jsma.generate_np(X_test[:1000], **jsma_params)\n",
    "    print(time.time() - start)\n",
    "    \n",
    "    big_N = 28 * 28 * 1. # HARDCODED HERE! THE NUMBER OF ELEMENTS IN EACH INPUT\n",
    "    scores = np.linalg.norm(adv_examples.reshape(adv_examples.shape[0],-1)-X_test[:1000].reshape(X_test[:1000].shape[0],-1),axis=1)/big_N\n",
    "\n",
    "    print(scores.shape)\n",
    "    print(np.median(scores))\n",
    "        \n",
    "    # Evaluate the accuracy of the MNIST model on adversarial examples\n",
    "    eval_par = {'batch_size': batch_size}\n",
    "    acc = model_eval(sess, x, y, preds_adv, X_test[:1000], Y_test[:1000], args=eval_par)\n",
    "    print('Test accuracy on adversarial examples: %0.4f\\n' % acc)\n",
    "    report.clean_train_adv_eval = acc\n",
    "\n",
    "    return None"
   ]
  },
  {
   "cell_type": "code",
   "execution_count": null,
   "metadata": {},
   "outputs": [
    {
     "name": "stdout",
     "output_type": "stream",
     "text": [
      "Created TensorFlow session.\n",
      "Extracting /tmp/train-images-idx3-ubyte.gz\n",
      "Extracting /tmp/train-labels-idx1-ubyte.gz\n",
      "Extracting /tmp/t10k-images-idx3-ubyte.gz\n",
      "Extracting /tmp/t10k-labels-idx1-ubyte.gz\n",
      "X_train shape: (60000, 28, 28, 1)\n",
      "X_test shape: (10000, 28, 28, 1)\n",
      "Defined TensorFlow model graph.\n",
      "Test accuracy on legitimate test examples: 0.9871\n"
     ]
    },
    {
     "name": "stderr",
     "output_type": "stream",
     "text": [
      "/home/ec2-user/mynotebooks/src/cleverhans/cleverhans/attacks.py:35: UserWarning: CleverHans support for supplying a callable instead of an instance of the cleverhans.model.Model class is deprecated and will be dropped on 2018-01-11.\n",
      "  warnings.warn(\"CleverHans support for supplying a callable\"\n"
     ]
    },
    {
     "name": "stdout",
     "output_type": "stream",
     "text": [
      "Step 1\n",
      "408.20263266563416\n",
      "(1000,)\n",
      "0.00586339\n",
      "Test accuracy on adversarial examples: 0.0450\n",
      "\n"
     ]
    }
   ],
   "source": [
    "mnist_jsma()"
   ]
  },
  {
   "cell_type": "code",
   "execution_count": null,
   "metadata": {},
   "outputs": [],
   "source": [
    "# Ideas for next steps: change the code in the first shit: keep track of the number of successful attacks.\n",
    "# DGAF about black-box attacks for now.\n",
    "mnist_jsma(nb_epochs=12)\n",
    "mnist_jsma(nb_epochs=18)"
   ]
  },
  {
   "cell_type": "code",
   "execution_count": null,
   "metadata": {},
   "outputs": [
    {
     "name": "stdout",
     "output_type": "stream",
     "text": [
      "Created TensorFlow session.\n",
      "Extracting /tmp/train-images-idx3-ubyte.gz\n",
      "Extracting /tmp/train-labels-idx1-ubyte.gz\n",
      "Extracting /tmp/t10k-images-idx3-ubyte.gz\n",
      "Extracting /tmp/t10k-labels-idx1-ubyte.gz\n",
      "X_train shape: (60000, 28, 28, 1)\n",
      "X_test shape: (10000, 28, 28, 1)\n",
      "Defined TensorFlow model graph.\n",
      "Test accuracy on legitimate test examples: 0.9898\n"
     ]
    },
    {
     "name": "stderr",
     "output_type": "stream",
     "text": [
      "/home/ec2-user/mynotebooks/src/cleverhans/cleverhans/attacks.py:35: UserWarning: CleverHans support for supplying a callable instead of an instance of the cleverhans.model.Model class is deprecated and will be dropped on 2018-01-11.\n",
      "  warnings.warn(\"CleverHans support for supplying a callable\"\n"
     ]
    },
    {
     "name": "stdout",
     "output_type": "stream",
     "text": [
      "Step 1\n",
      "690.9513363838196\n",
      "(1000,)\n",
      "0.00432502\n",
      "Test accuracy on adversarial examples: 0.2610\n",
      "\n",
      "Created TensorFlow session.\n",
      "Extracting /tmp/train-images-idx3-ubyte.gz\n",
      "Extracting /tmp/train-labels-idx1-ubyte.gz\n",
      "Extracting /tmp/t10k-images-idx3-ubyte.gz\n",
      "Extracting /tmp/t10k-labels-idx1-ubyte.gz\n",
      "X_train shape: (60000, 28, 28, 1)\n",
      "X_test shape: (10000, 28, 28, 1)\n",
      "Defined TensorFlow model graph.\n",
      "Test accuracy on legitimate test examples: 0.9899\n",
      "Step 1\n",
      "371.8326008319855\n",
      "(1000,)\n",
      "0.00581703\n",
      "Test accuracy on adversarial examples: 0.0210\n",
      "\n",
      "Created TensorFlow session.\n",
      "Extracting /tmp/train-images-idx3-ubyte.gz\n",
      "Extracting /tmp/train-labels-idx1-ubyte.gz\n",
      "Extracting /tmp/t10k-images-idx3-ubyte.gz\n",
      "Extracting /tmp/t10k-labels-idx1-ubyte.gz\n",
      "X_train shape: (60000, 28, 28, 1)\n",
      "X_test shape: (10000, 28, 28, 1)\n",
      "Defined TensorFlow model graph.\n",
      "Test accuracy on legitimate test examples: 0.9897\n",
      "Step 1\n"
     ]
    }
   ],
   "source": [
    "mnist_jsma(jsma_theta=0.5)\n",
    "mnist_jsma(jsma_theta=1.25)\n",
    "mnist_jsma(jsma_theta=0.75)"
   ]
  },
  {
   "cell_type": "code",
   "execution_count": 8,
   "metadata": {},
   "outputs": [
    {
     "name": "stdout",
     "output_type": "stream",
     "text": [
      "Created TensorFlow session.\n",
      "Extracting /tmp/train-images-idx3-ubyte.gz\n",
      "Extracting /tmp/train-labels-idx1-ubyte.gz\n",
      "Extracting /tmp/t10k-images-idx3-ubyte.gz\n",
      "Extracting /tmp/t10k-labels-idx1-ubyte.gz\n",
      "X_train shape: (60000, 28, 28, 1)\n",
      "X_test shape: (10000, 28, 28, 1)\n",
      "Defined TensorFlow model graph.\n",
      "Test accuracy on legitimate test examples: 0.9876\n"
     ]
    },
    {
     "name": "stderr",
     "output_type": "stream",
     "text": [
      "/home/ec2-user/mynotebooks/src/cleverhans/cleverhans/attacks.py:35: UserWarning: CleverHans support for supplying a callable instead of an instance of the cleverhans.model.Model class is deprecated and will be dropped on 2018-01-11.\n",
      "  warnings.warn(\"CleverHans support for supplying a callable\"\n"
     ]
    },
    {
     "name": "stdout",
     "output_type": "stream",
     "text": [
      "Step 1\n",
      "498.86871457099915\n",
      "(1000,)\n",
      "0.00511915\n",
      "Test accuracy on adversarial examples: 0.0990\n",
      "\n"
     ]
    }
   ],
   "source": [
    "mnist_jsma(jsma_theta=0.75)"
   ]
  },
  {
   "cell_type": "code",
   "execution_count": null,
   "metadata": {},
   "outputs": [],
   "source": []
  }
 ],
 "metadata": {
  "kernelspec": {
   "display_name": "Python [conda env:tensorflow_p36]",
   "language": "python",
   "name": "conda-env-tensorflow_p36-py"
  },
  "language_info": {
   "codemirror_mode": {
    "name": "ipython",
    "version": 3
   },
   "file_extension": ".py",
   "mimetype": "text/x-python",
   "name": "python",
   "nbconvert_exporter": "python",
   "pygments_lexer": "ipython3",
   "version": "3.6.3"
  }
 },
 "nbformat": 4,
 "nbformat_minor": 2
}
